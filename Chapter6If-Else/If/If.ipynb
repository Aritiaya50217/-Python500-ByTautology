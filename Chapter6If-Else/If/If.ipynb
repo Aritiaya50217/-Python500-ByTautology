{
 "cells": [
  {
   "cell_type": "code",
   "execution_count": 5,
   "metadata": {},
   "outputs": [
    {
     "name": "stdout",
     "output_type": "stream",
     "text": [
      "Please insert your name : Artitaya\n",
      "Hi Artitaya\n",
      "Nice to meet you.\n"
     ]
    }
   ],
   "source": [
    "# if\n",
    "name = input('Please insert your name : ')\n",
    "if name == 'Artitaya' :\n",
    "    print('Hi Artitaya')\n",
    "print('Nice to meet you.')"
   ]
  },
  {
   "cell_type": "code",
   "execution_count": 8,
   "metadata": {},
   "outputs": [
    {
     "name": "stdout",
     "output_type": "stream",
     "text": [
      "Please insert score : 50\n",
      "Pass\n"
     ]
    }
   ],
   "source": [
    "# if-else\n",
    "score = int(input('Please insert score : '))\n",
    "if score >= 50 :\n",
    "    print('Pass')\n",
    "else : \n",
    "    print('Fail')"
   ]
  },
  {
   "cell_type": "code",
   "execution_count": 5,
   "metadata": {},
   "outputs": [
    {
     "name": "stdout",
     "output_type": "stream",
     "text": [
      "Please insert your name : Alan\n",
      "\n",
      "Oh God !\n"
     ]
    }
   ],
   "source": [
    "# elif\n",
    "name = input('Please insert your name : ')\n",
    "print()\n",
    "if name == 'Alan' :\n",
    "    print('Oh God !')\n",
    "elif name == 'Isac Newton' :\n",
    "    print('OMG ! ')\n",
    "else :\n",
    "    print('Glad to see you')"
   ]
  },
  {
   "cell_type": "code",
   "execution_count": null,
   "metadata": {},
   "outputs": [],
   "source": []
  }
 ],
 "metadata": {
  "kernelspec": {
   "display_name": "Python 3",
   "language": "python",
   "name": "python3"
  },
  "language_info": {
   "codemirror_mode": {
    "name": "ipython",
    "version": 3
   },
   "file_extension": ".py",
   "mimetype": "text/x-python",
   "name": "python",
   "nbconvert_exporter": "python",
   "pygments_lexer": "ipython3",
   "version": "3.8.3"
  }
 },
 "nbformat": 4,
 "nbformat_minor": 4
}
