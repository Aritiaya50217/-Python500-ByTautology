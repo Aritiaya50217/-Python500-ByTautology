{
 "cells": [
  {
   "cell_type": "code",
   "execution_count": 5,
   "metadata": {},
   "outputs": [
    {
     "name": "stdout",
     "output_type": "stream",
     "text": [
      "abcdefg\n",
      "abc\n",
      "True\n"
     ]
    }
   ],
   "source": [
    "# เขียนโปรแกรมรับอินพุต 2 ตัวที่เป็นสายอักขระ (string1,string2) ให้ทำการตรวจ string1 ที่รับมาว่ามี string2 ในนั้นหรือไม่ จากนั้นให้พิมพ์ค่าความจริงออกมา\n",
    "string1 = input()\n",
    "string2 = input()\n",
    "print(string2 in string1)"
   ]
  },
  {
   "cell_type": "code",
   "execution_count": null,
   "metadata": {},
   "outputs": [],
   "source": []
  }
 ],
 "metadata": {
  "kernelspec": {
   "display_name": "Python 3",
   "language": "python",
   "name": "python3"
  },
  "language_info": {
   "codemirror_mode": {
    "name": "ipython",
    "version": 3
   },
   "file_extension": ".py",
   "mimetype": "text/x-python",
   "name": "python",
   "nbconvert_exporter": "python",
   "pygments_lexer": "ipython3",
   "version": "3.8.3"
  }
 },
 "nbformat": 4,
 "nbformat_minor": 4
}
