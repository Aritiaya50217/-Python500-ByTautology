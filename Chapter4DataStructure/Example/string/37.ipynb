{
 "cells": [
  {
   "cell_type": "code",
   "execution_count": 5,
   "metadata": {},
   "outputs": [
    {
     "name": "stdout",
     "output_type": "stream",
     "text": [
      "Please insert sentence : Python Node.js JavaScript\n",
      "['Python', 'Node.js', 'JavaScript']\n"
     ]
    }
   ],
   "source": [
    "# เขียนโปรแกรมรับอินพุต 1 ตัวที่เป็นสายอักขระ (sentence) ให้ทำการตัดคำในสายอักขระโดยใช้ ''  เป็นตัวตัดคำ หลังจากนั้นให้พิมพ์ผลลัพธ์จากการตัดคำออกมา\n",
    "# split() คำสั่งที่ใช้ในการตัดคำ\n",
    "\n",
    "sentence = input(\"Please insert sentence : \")\n",
    "print(sentence.split(' '))"
   ]
  },
  {
   "cell_type": "code",
   "execution_count": null,
   "metadata": {},
   "outputs": [],
   "source": []
  }
 ],
 "metadata": {
  "kernelspec": {
   "display_name": "Python 3",
   "language": "python",
   "name": "python3"
  },
  "language_info": {
   "codemirror_mode": {
    "name": "ipython",
    "version": 3
   },
   "file_extension": ".py",
   "mimetype": "text/x-python",
   "name": "python",
   "nbconvert_exporter": "python",
   "pygments_lexer": "ipython3",
   "version": "3.8.3"
  }
 },
 "nbformat": 4,
 "nbformat_minor": 4
}
