{
 "cells": [
  {
   "cell_type": "code",
   "execution_count": 4,
   "metadata": {},
   "outputs": [
    {
     "name": "stdout",
     "output_type": "stream",
     "text": [
      "Index 2 ถึง Index -2 : tho\n"
     ]
    }
   ],
   "source": [
    "# เขียนโปรแกรมสร้างชื่อตัวแปร string1 และกำหนดค่าให้เท่ากับ 'Python'  หลังจากนั้นให้ทำการพิมพ์สายอักขระตั้งแต่ index 2 - index ที่ -2 ออกมา\n",
    "string1 = \"Python\"\n",
    "print(\"Index 2 ถึง Index -2 :\",string1[2:-1])"
   ]
  },
  {
   "cell_type": "code",
   "execution_count": null,
   "metadata": {},
   "outputs": [],
   "source": []
  }
 ],
 "metadata": {
  "kernelspec": {
   "display_name": "Python 3",
   "language": "python",
   "name": "python3"
  },
  "language_info": {
   "codemirror_mode": {
    "name": "ipython",
    "version": 3
   },
   "file_extension": ".py",
   "mimetype": "text/x-python",
   "name": "python",
   "nbconvert_exporter": "python",
   "pygments_lexer": "ipython3",
   "version": "3.8.3"
  }
 },
 "nbformat": 4,
 "nbformat_minor": 4
}
