{
 "cells": [
  {
   "cell_type": "code",
   "execution_count": 7,
   "metadata": {},
   "outputs": [
    {
     "name": "stdout",
     "output_type": "stream",
     "text": [
      "Please insert sentence : Python-Node.js-JavaScript\n",
      "Please insert c : -\n",
      "['Python', 'Node.js', 'JavaScript']\n"
     ]
    }
   ],
   "source": [
    "# เขียนโปรแกรมรับอินพุต 2 ตัวเป็นสายอักขระ (sentence,c) ให้ทำการตัดคำใน sentence โดยใช้ c เป็นตัวตัดคำ หลังจากนั้นให้พิมพ์ผลลัพธ์จากการตัดคำออกมา\n",
    "sentence = input(\"Please insert sentence : \")\n",
    "c =input(\"Please insert c : \")\n",
    "print(sentence.split(c))"
   ]
  },
  {
   "cell_type": "code",
   "execution_count": 8,
   "metadata": {},
   "outputs": [
    {
     "name": "stdout",
     "output_type": "stream",
     "text": [
      "Please insert sentence : Pyhon-Node.js\n",
      "['Pyhon', 'Node.js']\n"
     ]
    }
   ],
   "source": [
    "# กรณี c ไม่รับค่าอินพุต\n",
    "sentence = input(\"Please insert sentence : \")\n",
    "c =\"-\"\n",
    "print(sentence.split(c))"
   ]
  },
  {
   "cell_type": "code",
   "execution_count": null,
   "metadata": {},
   "outputs": [],
   "source": []
  }
 ],
 "metadata": {
  "kernelspec": {
   "display_name": "Python 3",
   "language": "python",
   "name": "python3"
  },
  "language_info": {
   "codemirror_mode": {
    "name": "ipython",
    "version": 3
   },
   "file_extension": ".py",
   "mimetype": "text/x-python",
   "name": "python",
   "nbconvert_exporter": "python",
   "pygments_lexer": "ipython3",
   "version": "3.8.3"
  }
 },
 "nbformat": 4,
 "nbformat_minor": 4
}
