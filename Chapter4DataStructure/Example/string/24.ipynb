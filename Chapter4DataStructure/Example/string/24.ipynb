{
 "cells": [
  {
   "cell_type": "code",
   "execution_count": 4,
   "metadata": {},
   "outputs": [
    {
     "name": "stdout",
     "output_type": "stream",
     "text": [
      "ลำดับที่ 2 : t\n",
      "ลำดับที่ -4 : t\n"
     ]
    }
   ],
   "source": [
    "# เขียนโปรแกรมสร้างตัวแปรชื่อ string1 และกำหนดค่าให้เท่ากับ ''Python\" หลังจากนั้นให้ทำการพิมพ์อักขระ 't' ออกมาโดยอ้างอิงตำแหน่งจาก string 1\n",
    "string1 = \"Python\"\n",
    "print(\"ลำดับที่ 2 :\",string1[2])\n",
    "print(\"ลำดับที่ -4 :\",string1[-4])"
   ]
  },
  {
   "cell_type": "code",
   "execution_count": null,
   "metadata": {},
   "outputs": [],
   "source": []
  }
 ],
 "metadata": {
  "kernelspec": {
   "display_name": "Python 3",
   "language": "python",
   "name": "python3"
  },
  "language_info": {
   "codemirror_mode": {
    "name": "ipython",
    "version": 3
   },
   "file_extension": ".py",
   "mimetype": "text/x-python",
   "name": "python",
   "nbconvert_exporter": "python",
   "pygments_lexer": "ipython3",
   "version": "3.8.3"
  }
 },
 "nbformat": 4,
 "nbformat_minor": 4
}
