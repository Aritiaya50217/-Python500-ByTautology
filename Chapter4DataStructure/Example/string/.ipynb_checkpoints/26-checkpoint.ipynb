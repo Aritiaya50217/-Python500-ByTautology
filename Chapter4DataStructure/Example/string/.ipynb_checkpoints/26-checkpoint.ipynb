{
 "cells": [
  {
   "cell_type": "code",
   "execution_count": 5,
   "metadata": {},
   "outputs": [
    {
     "name": "stdout",
     "output_type": "stream",
     "text": [
      "Index 1 - Index 3 : yth\n"
     ]
    }
   ],
   "source": [
    "# เขียนโปรแกรมสร้างตัวแปรชื่อ string1 และกำหนดค่าให้เท่ากับ 'Python' หลังจากนั้นให้ทำการพิมพ์สายอักขระตั้งแต่ index 1 จนถึง index 3 ออกมา\n",
    "string1 = 'Python'\n",
    "print(\"Index 1 - Index 3 :\",string1[1:4])"
   ]
  },
  {
   "cell_type": "code",
   "execution_count": null,
   "metadata": {},
   "outputs": [],
   "source": []
  }
 ],
 "metadata": {
  "kernelspec": {
   "display_name": "Python 3",
   "language": "python",
   "name": "python3"
  },
  "language_info": {
   "codemirror_mode": {
    "name": "ipython",
    "version": 3
   },
   "file_extension": ".py",
   "mimetype": "text/x-python",
   "name": "python",
   "nbconvert_exporter": "python",
   "pygments_lexer": "ipython3",
   "version": "3.8.3"
  }
 },
 "nbformat": 4,
 "nbformat_minor": 4
}
