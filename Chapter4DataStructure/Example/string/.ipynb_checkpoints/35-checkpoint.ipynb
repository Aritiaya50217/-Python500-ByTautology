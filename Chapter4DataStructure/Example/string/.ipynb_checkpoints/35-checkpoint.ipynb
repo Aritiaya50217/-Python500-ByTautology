{
 "cells": [
  {
   "cell_type": "code",
   "execution_count": 1,
   "metadata": {},
   "outputs": [
    {
     "name": "stdout",
     "output_type": "stream",
     "text": [
      "Please insert string :PythonandJavaScript\n",
      "PythonAndJAvAScript\n"
     ]
    }
   ],
   "source": [
    "# จงเขียนโปรแกรมรับอินพุต 1 ตัวที่เป็นสายอักขระให้ทำการแทนที่อักขระ 'a' ด้วย 'A' จากนั้นให้พิมพ์สายอักขระที่ผ่านการดำเนินการแล้วออกมา\n",
    "char = input(\"Please insert string :\")\n",
    "# .replace  การแทนที่\n",
    "print(char.replace('a','A'))"
   ]
  },
  {
   "cell_type": "code",
   "execution_count": null,
   "metadata": {},
   "outputs": [],
   "source": []
  }
 ],
 "metadata": {
  "kernelspec": {
   "display_name": "Python 3",
   "language": "python",
   "name": "python3"
  },
  "language_info": {
   "codemirror_mode": {
    "name": "ipython",
    "version": 3
   },
   "file_extension": ".py",
   "mimetype": "text/x-python",
   "name": "python",
   "nbconvert_exporter": "python",
   "pygments_lexer": "ipython3",
   "version": "3.8.3"
  }
 },
 "nbformat": 4,
 "nbformat_minor": 4
}
