{
 "cells": [
  {
   "cell_type": "code",
   "execution_count": 4,
   "metadata": {},
   "outputs": [
    {
     "name": "stdout",
     "output_type": "stream",
     "text": [
      "Please insert data1 : Hello\n",
      "Please insert data2 : World\n",
      "HelloWorld\n"
     ]
    }
   ],
   "source": [
    "# เขียนโปรแกรมรับอินพุต 2 ตัวที่เป็นสายอักขระ (str1,str2) ให้ทำการต่อสายอักขระทั้ง 2 (โดยนำ str2 ไปต่อหลัง str1) หลังจากนั้นให้พิมพ์ผลลัพธ์ออกมา\n",
    "str1 = input(\"Please insert str1 : \")\n",
    "str2 = input('Please insert str2 : ')\n",
    "print()"
   ]
  },
  {
   "cell_type": "code",
   "execution_count": null,
   "metadata": {},
   "outputs": [],
   "source": []
  }
 ],
 "metadata": {
  "kernelspec": {
   "display_name": "Python 3",
   "language": "python",
   "name": "python3"
  },
  "language_info": {
   "codemirror_mode": {
    "name": "ipython",
    "version": 3
   },
   "file_extension": ".py",
   "mimetype": "text/x-python",
   "name": "python",
   "nbconvert_exporter": "python",
   "pygments_lexer": "ipython3",
   "version": "3.8.3"
  }
 },
 "nbformat": 4,
 "nbformat_minor": 4
}
