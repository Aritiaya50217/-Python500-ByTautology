{
 "cells": [
  {
   "cell_type": "code",
   "execution_count": 3,
   "metadata": {},
   "outputs": [
    {
     "name": "stdout",
     "output_type": "stream",
     "text": [
      "Please insert string : artitaya\n",
      "artitaya\n",
      "ผ่านการดำเนินการ :  ArtitAyA\n"
     ]
    }
   ],
   "source": [
    "# เขียนโปรแกรมรับอินพุต 1 ตัวที่เป็นสายอักขระให้ทำการแทนที่อักขระ 'a' ด้วย 'A'และกำหนดค่าที่ผ่านการดำเนินการใส่ตัวแปรชือ string2 จากนั้นห้พิมพ์ string2 ออกมา\n",
    "string1 = input(\"Please insert string : \")\n",
    "string2 = string1.replace('a','A')\n",
    "print(string1)\n",
    "print(\"ผ่านการดำเนินการ : \",string2)"
   ]
  },
  {
   "cell_type": "code",
   "execution_count": null,
   "metadata": {},
   "outputs": [],
   "source": []
  }
 ],
 "metadata": {
  "kernelspec": {
   "display_name": "Python 3",
   "language": "python",
   "name": "python3"
  },
  "language_info": {
   "codemirror_mode": {
    "name": "ipython",
    "version": 3
   },
   "file_extension": ".py",
   "mimetype": "text/x-python",
   "name": "python",
   "nbconvert_exporter": "python",
   "pygments_lexer": "ipython3",
   "version": "3.8.3"
  }
 },
 "nbformat": 4,
 "nbformat_minor": 4
}
