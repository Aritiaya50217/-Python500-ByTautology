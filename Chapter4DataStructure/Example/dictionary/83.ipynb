{
 "cells": [
  {
   "cell_type": "code",
   "execution_count": 6,
   "metadata": {
    "scrolled": true
   },
   "outputs": [
    {
     "name": "stdout",
     "output_type": "stream",
     "text": [
      "{'first_name': 'John', 'last_name': 'Doe'}\n",
      "Data Type :  <class 'dict'>\n"
     ]
    }
   ],
   "source": [
    "# เขียนโปรแกรมสร้าง dictionary ที่มี key เป็น 'first_name' และ 'last_name' โดยมี value เป็น 'John' และ 'Doe' ตามลำดับ จากนั้นให้ทำการพิมพ์ค่าและชนิดข้อมูลของ dictionary ที่สร้างออกมา\n",
    "dict = {'first_name' : 'John','last_name' : 'Doe'}\n",
    "print(dict)\n",
    "print('Data Type : ',type(dict))"
   ]
  },
  {
   "cell_type": "code",
   "execution_count": null,
   "metadata": {},
   "outputs": [],
   "source": []
  }
 ],
 "metadata": {
  "kernelspec": {
   "display_name": "Python 3",
   "language": "python",
   "name": "python3"
  },
  "language_info": {
   "codemirror_mode": {
    "name": "ipython",
    "version": 3
   },
   "file_extension": ".py",
   "mimetype": "text/x-python",
   "name": "python",
   "nbconvert_exporter": "python",
   "pygments_lexer": "ipython3",
   "version": "3.8.3"
  }
 },
 "nbformat": 4,
 "nbformat_minor": 4
}
