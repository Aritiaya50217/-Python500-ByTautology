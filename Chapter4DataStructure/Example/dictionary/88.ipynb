{
 "cells": [
  {
   "cell_type": "code",
   "execution_count": 4,
   "metadata": {},
   "outputs": [
    {
     "name": "stdout",
     "output_type": "stream",
     "text": [
      "Before :  {'first_name': 'John', 'last_name': 'Doe'}\n",
      "After : {'first_name': 'Jane', 'last_name': 'Doe'}\n"
     ]
    }
   ],
   "source": [
    "#  กำหนดให้ dict1 ={'first_name' : 'John' ,'last_name' : 'Doe'} เขียนโปรแกรมเปลี่ยน value ของ key 'first_name' เป็น 'Jane' หลังจากนั้นให้พิมพ์ dict1 ออกมา\n",
    "dict1 ={'first_name' : 'John' ,'last_name' : 'Doe'}\n",
    "print('Before : ',dict1)\n",
    "dict1['first_name'] = 'Jane'\n",
    "print(\"After :\",dict1)"
   ]
  },
  {
   "cell_type": "code",
   "execution_count": null,
   "metadata": {},
   "outputs": [],
   "source": []
  }
 ],
 "metadata": {
  "kernelspec": {
   "display_name": "Python 3",
   "language": "python",
   "name": "python3"
  },
  "language_info": {
   "codemirror_mode": {
    "name": "ipython",
    "version": 3
   },
   "file_extension": ".py",
   "mimetype": "text/x-python",
   "name": "python",
   "nbconvert_exporter": "python",
   "pygments_lexer": "ipython3",
   "version": "3.8.3"
  }
 },
 "nbformat": 4,
 "nbformat_minor": 4
}
