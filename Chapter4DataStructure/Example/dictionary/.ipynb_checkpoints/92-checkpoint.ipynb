{
 "cells": [
  {
   "cell_type": "code",
   "execution_count": 3,
   "metadata": {},
   "outputs": [
    {
     "name": "stdout",
     "output_type": "stream",
     "text": [
      "Before :  {'first_name': 'John', 'last_name': 'Doe', 'age': 32}\n",
      "After :  {'first_name': 'John', 'last_name': 'Doe'}\n"
     ]
    }
   ],
   "source": [
    "# กำหนดให้ dict1 = {'first_name' : 'John' , 'last_name' : 'Doe' ,'age' : 32} เขียนโปรแกรมลบ key 'age'  ออกจาก dict1 หลังจากนั้นให้พิมพ์ dict1 ออกมา\n",
    "dict1 = {'first_name' : 'John' , 'last_name' : 'Doe' ,'age' : 32}\n",
    "print(\"Before : \",dict1)\n",
    "del dict1['age']\n",
    "print(\"After : \",dict1)"
   ]
  },
  {
   "cell_type": "code",
   "execution_count": null,
   "metadata": {},
   "outputs": [],
   "source": []
  }
 ],
 "metadata": {
  "kernelspec": {
   "display_name": "Python 3",
   "language": "python",
   "name": "python3"
  },
  "language_info": {
   "codemirror_mode": {
    "name": "ipython",
    "version": 3
   },
   "file_extension": ".py",
   "mimetype": "text/x-python",
   "name": "python",
   "nbconvert_exporter": "python",
   "pygments_lexer": "ipython3",
   "version": "3.8.3"
  }
 },
 "nbformat": 4,
 "nbformat_minor": 4
}
