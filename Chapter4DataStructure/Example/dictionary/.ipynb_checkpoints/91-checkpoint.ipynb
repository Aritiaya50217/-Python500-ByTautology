{
 "cells": [
  {
   "cell_type": "code",
   "execution_count": 6,
   "metadata": {},
   "outputs": [
    {
     "name": "stdout",
     "output_type": "stream",
     "text": [
      "Hello\n",
      "World\n",
      "Dictionary :  {'Hello': 'World'}\n"
     ]
    }
   ],
   "source": [
    "# เขียนโปรแกรมสร้าง empty dictionary และรับอินพุต 2 ตัวที่เป็นสายอักขระ (str1,str2) โดยให้ str1 เป็น key และ str2 เป็น value หลังจากนั้นให้พิมพ์ dictionary ออกมา\n",
    "dict1 = {}\n",
    "str1 = input()\n",
    "str2 = input()\n",
    "# นำ input มาใส่ใน empty dictionary  ==> dict1[key] = value\n",
    "dict1[str1] = str2\n",
    "print(\"Dictionary : \",dict1)"
   ]
  },
  {
   "cell_type": "code",
   "execution_count": null,
   "metadata": {},
   "outputs": [],
   "source": []
  }
 ],
 "metadata": {
  "kernelspec": {
   "display_name": "Python 3",
   "language": "python",
   "name": "python3"
  },
  "language_info": {
   "codemirror_mode": {
    "name": "ipython",
    "version": 3
   },
   "file_extension": ".py",
   "mimetype": "text/x-python",
   "name": "python",
   "nbconvert_exporter": "python",
   "pygments_lexer": "ipython3",
   "version": "3.8.3"
  }
 },
 "nbformat": 4,
 "nbformat_minor": 4
}
