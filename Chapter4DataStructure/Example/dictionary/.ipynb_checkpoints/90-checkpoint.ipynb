{
 "cells": [
  {
   "cell_type": "code",
   "execution_count": 3,
   "metadata": {},
   "outputs": [
    {
     "name": "stdout",
     "output_type": "stream",
     "text": [
      "Add age : {'first_name': 'John', 'last_name': 'Doe', 'age': 32}\n",
      "Add hobby : {'first_name': 'John', 'last_name': 'Doe', 'age': 32, 'hobby': ['coding', 'studying']}\n"
     ]
    }
   ],
   "source": [
    "#  กำหนด dict1 = {'first_name' : 'John' , 'last_name' : 'Doe'} เขียนโปรแกรมสร้าง key ใหม่ชื่อ 'age' และ 'hobby' โดยมี value เป็น 32 และ ['coding','studying'] ตามลำดับ \n",
    "dict1 = {'first_name' : 'John' , 'last_name' : 'Doe'}\n",
    "dict1['age'] = 32\n",
    "print(\"Add age :\",dict1)\n",
    "dict1['hobby'] = ['coding','studying']\n",
    "print(\"Add hobby :\",dict1)"
   ]
  },
  {
   "cell_type": "code",
   "execution_count": 5,
   "metadata": {},
   "outputs": [
    {
     "name": "stdout",
     "output_type": "stream",
     "text": [
      "{'first_name': 'John', 'last_name': 'Doe', 'age': 32, 'hobby': ['coding', 'studying']}\n"
     ]
    }
   ],
   "source": [
    "# กรณีที่อยากสร้าง key ใหม่หลสย key\n",
    "# .update({ key1 : value1, key2 : value2 })\n",
    "dict1 = {'first_name' : 'John' , 'last_name' : 'Doe'}\n",
    "dict1.update({'age' : 32,'hobby' : ['coding','studying']})\n",
    "print(dict1)"
   ]
  },
  {
   "cell_type": "code",
   "execution_count": null,
   "metadata": {},
   "outputs": [],
   "source": []
  }
 ],
 "metadata": {
  "kernelspec": {
   "display_name": "Python 3",
   "language": "python",
   "name": "python3"
  },
  "language_info": {
   "codemirror_mode": {
    "name": "ipython",
    "version": 3
   },
   "file_extension": ".py",
   "mimetype": "text/x-python",
   "name": "python",
   "nbconvert_exporter": "python",
   "pygments_lexer": "ipython3",
   "version": "3.8.3"
  }
 },
 "nbformat": 4,
 "nbformat_minor": 4
}
