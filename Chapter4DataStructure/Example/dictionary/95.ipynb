{
 "cells": [
  {
   "cell_type": "code",
   "execution_count": 6,
   "metadata": {},
   "outputs": [
    {
     "name": "stdout",
     "output_type": "stream",
     "text": [
      "first_name\n",
      "Output :  True\n"
     ]
    }
   ],
   "source": [
    "# กำหนดให้ dict1 = {'first_name' : 'John' ,'last_name' : 'Doe', 'age' : 32} เขียนโปรแกรมรับอินพุต 1 ตัวที่เป็นสายอักขระ (str1) ให้ทำการตรวจว่า str1 เป็นหนึ่งใน key ของ dict1 หรือไม่\n",
    "dict1 = {'first_name' : 'John' ,'last_name' : 'Doe', 'age' : 32}\n",
    "str1 = input()\n",
    "print(\"Output : \",str1 in dict1)"
   ]
  },
  {
   "cell_type": "code",
   "execution_count": 7,
   "metadata": {},
   "outputs": [
    {
     "name": "stdout",
     "output_type": "stream",
     "text": [
      "John\n",
      "Output :  False\n"
     ]
    }
   ],
   "source": [
    "dict1 = {'first_name' : 'John' ,'last_name' : 'Doe', 'age' : 32}\n",
    "str1 = input()\n",
    "print(\"Output : \",str1 in dict1)"
   ]
  },
  {
   "cell_type": "code",
   "execution_count": null,
   "metadata": {},
   "outputs": [],
   "source": []
  }
 ],
 "metadata": {
  "kernelspec": {
   "display_name": "Python 3",
   "language": "python",
   "name": "python3"
  },
  "language_info": {
   "codemirror_mode": {
    "name": "ipython",
    "version": 3
   },
   "file_extension": ".py",
   "mimetype": "text/x-python",
   "name": "python",
   "nbconvert_exporter": "python",
   "pygments_lexer": "ipython3",
   "version": "3.8.3"
  }
 },
 "nbformat": 4,
 "nbformat_minor": 4
}
