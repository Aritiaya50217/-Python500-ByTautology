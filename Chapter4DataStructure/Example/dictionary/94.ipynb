{
 "cells": [
  {
   "cell_type": "code",
   "execution_count": 7,
   "metadata": {},
   "outputs": [
    {
     "name": "stdout",
     "output_type": "stream",
     "text": [
      "Keys Length :  3\n"
     ]
    }
   ],
   "source": [
    "# กำหนดให้ dict1 = {'first_name' : 'John' , 'last_name' : 'Doe' ,'age' : 32} เขียนโปรแกรมพิมพ์จำนวน key ของ dict1 ออกมา\n",
    "dict1 = {'first_name' : 'John' , 'last_name' : 'Doe' ,'age' : 32}\n",
    "print(\"Keys Length : \",len(dict1.keys()))"
   ]
  },
  {
   "cell_type": "code",
   "execution_count": 12,
   "metadata": {},
   "outputs": [
    {
     "name": "stdout",
     "output_type": "stream",
     "text": [
      "Keys Length : 3\n"
     ]
    }
   ],
   "source": [
    "dict1 = {'first_name' : 'John' , 'last_name' : 'Doe' ,'age' : 32}\n",
    "all_key = dict1.keys()\n",
    "print(\"Keys Length :\",len(all_key))"
   ]
  },
  {
   "cell_type": "code",
   "execution_count": null,
   "metadata": {},
   "outputs": [],
   "source": []
  }
 ],
 "metadata": {
  "kernelspec": {
   "display_name": "Python 3",
   "language": "python",
   "name": "python3"
  },
  "language_info": {
   "codemirror_mode": {
    "name": "ipython",
    "version": 3
   },
   "file_extension": ".py",
   "mimetype": "text/x-python",
   "name": "python",
   "nbconvert_exporter": "python",
   "pygments_lexer": "ipython3",
   "version": "3.8.3"
  }
 },
 "nbformat": 4,
 "nbformat_minor": 4
}
