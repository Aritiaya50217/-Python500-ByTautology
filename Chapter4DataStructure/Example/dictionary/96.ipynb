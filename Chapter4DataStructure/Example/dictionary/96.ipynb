{
 "cells": [
  {
   "cell_type": "code",
   "execution_count": 3,
   "metadata": {},
   "outputs": [
    {
     "name": "stdout",
     "output_type": "stream",
     "text": [
      "Please insert string : last_name\n",
      "Output :  False\n",
      "dict_values(['John', 'Doe', '32'])\n"
     ]
    }
   ],
   "source": [
    "# กำหนดให้ dict1 = {'first_name' : 'John', 'last_name' : 'Doe' , 'age' : '32' } เขียนโปรแกรมรับอินพุต 1 ตัวเป็นสายอักขระ (str1)  ให้ทำการตรวจว่า str1 เป็นหนึ่งใน value ของ dict1 หรือไม่ จากนั้นให้พิมพ์ค่าความจริงออกมา\n",
    "dict1 = {'first_name' : 'John', 'last_name' : 'Doe' , 'age' : '32' } \n",
    "str1 = input(\"Please insert string : \")\n",
    "value = dict1.values()\n",
    "print(\"Output : \",str1 in value )\n",
    "print(value)"
   ]
  },
  {
   "cell_type": "code",
   "execution_count": 6,
   "metadata": {},
   "outputs": [
    {
     "name": "stdout",
     "output_type": "stream",
     "text": [
      "Please insert string : Doe\n",
      "Output :  True\n"
     ]
    }
   ],
   "source": [
    "# กำหนดให้ dict1 = {'first_name' : 'John', 'last_name' : 'Doe' , 'age' : '32' } เขียนโปรแกรมรับอินพุต 1 ตัวเป็นสายอักขระ (str1)  ให้ทำการตรวจว่า str1 เป็นหนึ่งใน value ของ dict1 หรือไม่ จากนั้นให้พิมพ์ค่าความจริงออกมา\n",
    "dict1 = {'first_name' : 'John', 'last_name' : 'Doe' , 'age' : '32' } \n",
    "str1 = input(\"Please insert string : \")\n",
    "value = dict1.values()\n",
    "print(\"Output : \",str1 in value)"
   ]
  },
  {
   "cell_type": "code",
   "execution_count": null,
   "metadata": {},
   "outputs": [],
   "source": []
  }
 ],
 "metadata": {
  "kernelspec": {
   "display_name": "Python 3",
   "language": "python",
   "name": "python3"
  },
  "language_info": {
   "codemirror_mode": {
    "name": "ipython",
    "version": 3
   },
   "file_extension": ".py",
   "mimetype": "text/x-python",
   "name": "python",
   "nbconvert_exporter": "python",
   "pygments_lexer": "ipython3",
   "version": "3.8.3"
  }
 },
 "nbformat": 4,
 "nbformat_minor": 4
}
