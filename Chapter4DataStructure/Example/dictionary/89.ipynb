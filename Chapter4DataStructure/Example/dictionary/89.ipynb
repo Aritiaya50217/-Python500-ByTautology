{
 "cells": [
  {
   "cell_type": "code",
   "execution_count": 8,
   "metadata": {},
   "outputs": [
    {
     "name": "stdout",
     "output_type": "stream",
     "text": [
      "{'first_name': 'John', 'last_name': 'Doe'}\n",
      "{'first_name': 'John', 'last_name': 'Doe', 'age': 32}\n"
     ]
    }
   ],
   "source": [
    "#  กำหนดให้ dict1 = {'first_name' : 'John' , 'last_name' : 'Doe'} เขียนโปรแกรมสร้าง key ใหม่ชื่อ 'age'  และกำหนด value เป็น 32 หลังจากนั้นให้พิมพ์ dict1 ออกมา\n",
    "dict1 = {'first_name' : 'John' , 'last_name' : 'Doe'}\n",
    "print(dict1)\n",
    "# เพิ่ม key ใหม่\n",
    "dict1['age'] = 32\n",
    "print(dict1)"
   ]
  },
  {
   "cell_type": "code",
   "execution_count": null,
   "metadata": {},
   "outputs": [],
   "source": []
  }
 ],
 "metadata": {
  "kernelspec": {
   "display_name": "Python 3",
   "language": "python",
   "name": "python3"
  },
  "language_info": {
   "codemirror_mode": {
    "name": "ipython",
    "version": 3
   },
   "file_extension": ".py",
   "mimetype": "text/x-python",
   "name": "python",
   "nbconvert_exporter": "python",
   "pygments_lexer": "ipython3",
   "version": "3.8.3"
  }
 },
 "nbformat": 4,
 "nbformat_minor": 4
}
