{
 "cells": [
  {
   "cell_type": "code",
   "execution_count": 5,
   "metadata": {},
   "outputs": [
    {
     "name": "stdout",
     "output_type": "stream",
     "text": [
      "[4, 3, 2, 1, 0]\n"
     ]
    }
   ],
   "source": [
    "# กำหนดให้ list4 = [0,4,2,3,1] เขียนโปรแกรมเพื่อเรียงลำดับข้อมูลใน list4 จากมากไปน้อย และเก็บค่าไว้ในตัวแปรชื่อ sorted_list4 หลังจากนั้นให้พิมพ์ sorted_list4 \n",
    "list4 = [0,4,2,3,1]\n",
    "sorted_list4 = sorted(list4,reverse = True)\n",
    "print(sorted_list4 )"
   ]
  },
  {
   "cell_type": "code",
   "execution_count": null,
   "metadata": {},
   "outputs": [],
   "source": []
  }
 ],
 "metadata": {
  "kernelspec": {
   "display_name": "Python 3",
   "language": "python",
   "name": "python3"
  },
  "language_info": {
   "codemirror_mode": {
    "name": "ipython",
    "version": 3
   },
   "file_extension": ".py",
   "mimetype": "text/x-python",
   "name": "python",
   "nbconvert_exporter": "python",
   "pygments_lexer": "ipython3",
   "version": "3.8.3"
  }
 },
 "nbformat": 4,
 "nbformat_minor": 4
}
