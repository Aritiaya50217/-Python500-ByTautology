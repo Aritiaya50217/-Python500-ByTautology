{
 "cells": [
  {
   "cell_type": "code",
   "execution_count": 1,
   "metadata": {},
   "outputs": [
    {
     "name": "stdout",
     "output_type": "stream",
     "text": [
      "สมาชิกตั้งแต่ index ที่ 1 จนถึง indexที่ -2 :  [1, 2, 'a', 'b']\n"
     ]
    }
   ],
   "source": [
    "# กำหนดให้ list1 = [0,1,2,'a','b','c'] เขียนโปรแกรมเพื่อพิมพ์ list ที่มีสมาชิกตั้งแต่ index ที่ 1 จนถึง indexที่ -2 ของ list1 ออกมา\n",
    "list1 = [0,1,2,'a','b','c']\n",
    "print(\"สมาชิกตั้งแต่ index ที่ 1 จนถึง indexที่ -2 : \",list1[1:5])"
   ]
  },
  {
   "cell_type": "code",
   "execution_count": 3,
   "metadata": {},
   "outputs": [
    {
     "name": "stdout",
     "output_type": "stream",
     "text": [
      "สมาชิกตั้งแต่ index ที่ 1 จนถึง indexที่ -2 :  [1, 2, 'a', 'b']\n"
     ]
    }
   ],
   "source": [
    "list1 = [0,1,2,'a','b','c']\n",
    "print(\"สมาชิกตั้งแต่ index ที่ 1 จนถึง indexที่ -2 : \",list1[-5:-1])"
   ]
  },
  {
   "cell_type": "code",
   "execution_count": null,
   "metadata": {},
   "outputs": [],
   "source": []
  }
 ],
 "metadata": {
  "kernelspec": {
   "display_name": "Python 3",
   "language": "python",
   "name": "python3"
  },
  "language_info": {
   "codemirror_mode": {
    "name": "ipython",
    "version": 3
   },
   "file_extension": ".py",
   "mimetype": "text/x-python",
   "name": "python",
   "nbconvert_exporter": "python",
   "pygments_lexer": "ipython3",
   "version": "3.8.3"
  }
 },
 "nbformat": 4,
 "nbformat_minor": 4
}
