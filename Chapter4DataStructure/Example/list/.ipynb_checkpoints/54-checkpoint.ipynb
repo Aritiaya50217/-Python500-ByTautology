{
 "cells": [
  {
   "cell_type": "code",
   "execution_count": 7,
   "metadata": {},
   "outputs": [
    {
     "name": "stdout",
     "output_type": "stream",
     "text": [
      "['apple', 'banana', 'cherry', 'eggfruit']\n"
     ]
    }
   ],
   "source": [
    "# กำหนดให้ list3 = ['apple','cherry','eggfruit'] เขียนโปรแกรมเพื่อแทรก 'banana' ไปเป็นสมาชิกใน index ที่ 1 ของ list3 หลังจากนั้นให้พิมพ์ list3 ออกมา\n",
    "list3 = ['apple','cherry','eggfruit'] \n",
    "# insert แทรกข้อมูล\n",
    "list3.insert(1,\"banana\")\n",
    "print(list3)"
   ]
  },
  {
   "cell_type": "code",
   "execution_count": null,
   "metadata": {},
   "outputs": [],
   "source": []
  }
 ],
 "metadata": {
  "kernelspec": {
   "display_name": "Python 3",
   "language": "python",
   "name": "python3"
  },
  "language_info": {
   "codemirror_mode": {
    "name": "ipython",
    "version": 3
   },
   "file_extension": ".py",
   "mimetype": "text/x-python",
   "name": "python",
   "nbconvert_exporter": "python",
   "pygments_lexer": "ipython3",
   "version": "3.8.3"
  }
 },
 "nbformat": 4,
 "nbformat_minor": 4
}
