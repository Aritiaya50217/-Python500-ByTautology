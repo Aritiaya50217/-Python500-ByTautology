{
 "cells": [
  {
   "cell_type": "code",
   "execution_count": 3,
   "metadata": {},
   "outputs": [
    {
     "name": "stdout",
     "output_type": "stream",
     "text": [
      "Before :  ['apple', 'banana', 'cherry', 'eggfruit']\n",
      "After :  ['apple', 'banana', 'cherry', 'kiwi', 'eggfruit']\n"
     ]
    }
   ],
   "source": [
    "# กำหนดให้ list3 = ['apple','banana','cherry','eggfruit'] เขียนโปรแกรมเพื่อแทรก 'kiwi' ไปเป็นสมาชิกใน index ที่ -2 ของ list3 หลังจากนั้นให้พิมพ์ list3 ออกมา\n",
    "list3 = ['apple','banana','cherry','eggfruit'] \n",
    "print(\"Before : \",list3)\n",
    "list3.insert(-1,\"kiwi\")\n",
    "print(\"After : \",list3)"
   ]
  },
  {
   "cell_type": "code",
   "execution_count": null,
   "metadata": {},
   "outputs": [],
   "source": []
  }
 ],
 "metadata": {
  "kernelspec": {
   "display_name": "Python 3",
   "language": "python",
   "name": "python3"
  },
  "language_info": {
   "codemirror_mode": {
    "name": "ipython",
    "version": 3
   },
   "file_extension": ".py",
   "mimetype": "text/x-python",
   "name": "python",
   "nbconvert_exporter": "python",
   "pygments_lexer": "ipython3",
   "version": "3.8.3"
  }
 },
 "nbformat": 4,
 "nbformat_minor": 4
}
