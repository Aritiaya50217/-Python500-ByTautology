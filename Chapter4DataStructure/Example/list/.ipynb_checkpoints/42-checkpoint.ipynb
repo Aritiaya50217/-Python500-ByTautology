{
 "cells": [
  {
   "cell_type": "code",
   "execution_count": 1,
   "metadata": {},
   "outputs": [
    {
     "name": "stdout",
     "output_type": "stream",
     "text": [
      "Index -3 :  a\n"
     ]
    }
   ],
   "source": [
    "# กำหนดให้ list1 = [0,1,2,'a','b','c'] เขียนโปรแกรมเพื่อพิมพ์สมาชิกที่ Index เป็น -3 ออกมา\n",
    "list1 = [0,1,2,'a','b','c']\n",
    "print(\"Index -3 : \",list1[-3])"
   ]
  },
  {
   "cell_type": "code",
   "execution_count": null,
   "metadata": {},
   "outputs": [],
   "source": []
  }
 ],
 "metadata": {
  "kernelspec": {
   "display_name": "Python 3",
   "language": "python",
   "name": "python3"
  },
  "language_info": {
   "codemirror_mode": {
    "name": "ipython",
    "version": 3
   },
   "file_extension": ".py",
   "mimetype": "text/x-python",
   "name": "python",
   "nbconvert_exporter": "python",
   "pygments_lexer": "ipython3",
   "version": "3.8.3"
  }
 },
 "nbformat": 4,
 "nbformat_minor": 4
}
