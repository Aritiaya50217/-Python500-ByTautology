{
 "cells": [
  {
   "cell_type": "code",
   "execution_count": 7,
   "metadata": {},
   "outputs": [
    {
     "name": "stdout",
     "output_type": "stream",
     "text": [
      "[1, 2, 3, 1, 2, 3]\n",
      "[1, 2, 1, 2, 3]\n",
      "[1, 2, 1, 2]\n"
     ]
    }
   ],
   "source": [
    "# กำหนดให้ list1 = [1,2,3,1,2,3] เขียนโปรแกรมลบ 3 ทั้งหมด ออกจาก list1 โดยใช้คำสั่ง del หลังจากนั้นให้พิมพ์ list1 ออกมา\n",
    "list1 = [1,2,3,1,2,3]\n",
    "print(list1)\n",
    "del list1[2]\n",
    "print(list1)\n",
    "# เมื่อลบไป 1 ตำแหน่ง ตำแหน่งที่เหลือจากมีการคาดเคลื่อน\n",
    "del list1[4]\n",
    "print(list1)"
   ]
  },
  {
   "cell_type": "code",
   "execution_count": null,
   "metadata": {},
   "outputs": [],
   "source": []
  }
 ],
 "metadata": {
  "kernelspec": {
   "display_name": "Python 3",
   "language": "python",
   "name": "python3"
  },
  "language_info": {
   "codemirror_mode": {
    "name": "ipython",
    "version": 3
   },
   "file_extension": ".py",
   "mimetype": "text/x-python",
   "name": "python",
   "nbconvert_exporter": "python",
   "pygments_lexer": "ipython3",
   "version": "3.8.3"
  }
 },
 "nbformat": 4,
 "nbformat_minor": 4
}
