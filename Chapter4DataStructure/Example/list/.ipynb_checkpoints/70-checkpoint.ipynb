{
 "cells": [
  {
   "cell_type": "code",
   "execution_count": 6,
   "metadata": {},
   "outputs": [
    {
     "name": "stdout",
     "output_type": "stream",
     "text": [
      "Please insert Number : 2\n",
      "True\n"
     ]
    }
   ],
   "source": [
    "# กำหนดให้ list1 = [1,2,3,4,5]  เขียนโปรแกรมรับอินพุต 1 ตัวเป็นจำนวนเต็ม (numeric1) ให้ทำการตรวจสอบว่า numeric1 เป็นสมาชิกใน list1 หรือไม่ \n",
    "list1 = [1,2,3,4,5]\n",
    "numeric1 = int(input(\"Please insert Number : \"))\n",
    "print(numeric1 in list1)"
   ]
  },
  {
   "cell_type": "code",
   "execution_count": null,
   "metadata": {},
   "outputs": [],
   "source": []
  }
 ],
 "metadata": {
  "kernelspec": {
   "display_name": "Python 3",
   "language": "python",
   "name": "python3"
  },
  "language_info": {
   "codemirror_mode": {
    "name": "ipython",
    "version": 3
   },
   "file_extension": ".py",
   "mimetype": "text/x-python",
   "name": "python",
   "nbconvert_exporter": "python",
   "pygments_lexer": "ipython3",
   "version": "3.8.3"
  }
 },
 "nbformat": 4,
 "nbformat_minor": 4
}
