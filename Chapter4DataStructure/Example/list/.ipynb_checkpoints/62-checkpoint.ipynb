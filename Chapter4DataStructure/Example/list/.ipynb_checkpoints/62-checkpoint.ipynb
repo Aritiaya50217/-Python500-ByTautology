{
 "cells": [
  {
   "cell_type": "code",
   "execution_count": 1,
   "metadata": {},
   "outputs": [
    {
     "name": "stdout",
     "output_type": "stream",
     "text": [
      "['a', 'b', 'c', 0, 1, 2]\n"
     ]
    }
   ],
   "source": [
    "# กำหนดให้ list1 = ['a','b','c'] และ list2 = [0,1,2] เขียนโปรแกรมเพื่อนำสมาชิกทั้งหมดของ list2 ไปต่อท้าย list1 จากนั้นให้พิมพ์ list1 และ list2 \n",
    "list1 =  ['a','b','c'] \n",
    "list2 = [0,1,2]\n",
    "print(list1 + list2)"
   ]
  },
  {
   "cell_type": "code",
   "execution_count": 7,
   "metadata": {},
   "outputs": [
    {
     "name": "stdout",
     "output_type": "stream",
     "text": [
      "['a', 'b', 'c', 0, 1, 2]\n"
     ]
    }
   ],
   "source": [
    "# extend เป็น method ที่ใช้ในการนำ list มาต่อกัน\n",
    "list1 =  ['a','b','c'] \n",
    "list2 = [0,1,2]\n",
    "# list1 เป็นหลัก แล้วนำ list2 มาต่อท้าย\n",
    "list1.extend(list2)\n",
    "print(list1)"
   ]
  },
  {
   "cell_type": "code",
   "execution_count": 6,
   "metadata": {
    "scrolled": true
   },
   "outputs": [
    {
     "name": "stdout",
     "output_type": "stream",
     "text": [
      "['a', 'b', 'c']\n"
     ]
    }
   ],
   "source": []
  },
  {
   "cell_type": "code",
   "execution_count": null,
   "metadata": {},
   "outputs": [],
   "source": []
  }
 ],
 "metadata": {
  "kernelspec": {
   "display_name": "Python 3",
   "language": "python",
   "name": "python3"
  },
  "language_info": {
   "codemirror_mode": {
    "name": "ipython",
    "version": 3
   },
   "file_extension": ".py",
   "mimetype": "text/x-python",
   "name": "python",
   "nbconvert_exporter": "python",
   "pygments_lexer": "ipython3",
   "version": "3.8.3"
  }
 },
 "nbformat": 4,
 "nbformat_minor": 4
}
