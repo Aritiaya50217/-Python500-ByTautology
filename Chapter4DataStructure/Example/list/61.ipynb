{
 "cells": [
  {
   "cell_type": "code",
   "execution_count": 1,
   "metadata": {},
   "outputs": [
    {
     "name": "stdout",
     "output_type": "stream",
     "text": [
      "['e', 'd', 'c', 'b', 'a']\n"
     ]
    }
   ],
   "source": [
    "# กำหนดให้ list5 = ['d','a','c','b','e']  เขียนโปรแกรมเพื่อเรียงลำดับข้อมูลใน list5 ตามตัวอักษรแบบถอยหลัง และเก็บค่าไว้ในตัวแปรชื่อ sorted_list5 หลังจากนั้นพิมพ์ list5 ออกมา\n",
    "list5 = ['d','a','c','b','e'] \n",
    "sorted_list5 = sorted(list5,reverse=True)\n",
    "print(sorted_list5 )"
   ]
  },
  {
   "cell_type": "code",
   "execution_count": null,
   "metadata": {},
   "outputs": [],
   "source": []
  }
 ],
 "metadata": {
  "kernelspec": {
   "display_name": "Python 3",
   "language": "python",
   "name": "python3"
  },
  "language_info": {
   "codemirror_mode": {
    "name": "ipython",
    "version": 3
   },
   "file_extension": ".py",
   "mimetype": "text/x-python",
   "name": "python",
   "nbconvert_exporter": "python",
   "pygments_lexer": "ipython3",
   "version": "3.8.3"
  }
 },
 "nbformat": 4,
 "nbformat_minor": 4
}
