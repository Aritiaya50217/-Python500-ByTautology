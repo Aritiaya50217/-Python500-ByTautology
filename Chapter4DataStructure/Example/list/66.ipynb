{
 "cells": [
  {
   "cell_type": "code",
   "execution_count": 4,
   "metadata": {},
   "outputs": [
    {
     "name": "stdout",
     "output_type": "stream",
     "text": [
      "[1, 2, 3, 1, 2, 3]\n",
      "[2, 3, 1, 2, 3]\n",
      "[2, 3, 2, 3]\n"
     ]
    }
   ],
   "source": [
    "# กำหนดให้ list1 = [1,2,3,1,2,3] เขียนโปรแกรมลบ 1 ออกจาก list1 โดยใช้ เมธอด remove \n",
    "# remove ใช้ลบ value ภายใน ต่างกับ del ที่ใช้ลบ index\n",
    "list1 = [1,2,3,1,2,3]\n",
    "print(list1)\n",
    "list1.remove(1)\n",
    "print(list1)\n",
    "list1.remove(1)\n",
    "print(list1)"
   ]
  },
  {
   "cell_type": "code",
   "execution_count": null,
   "metadata": {},
   "outputs": [],
   "source": []
  }
 ],
 "metadata": {
  "kernelspec": {
   "display_name": "Python 3",
   "language": "python",
   "name": "python3"
  },
  "language_info": {
   "codemirror_mode": {
    "name": "ipython",
    "version": 3
   },
   "file_extension": ".py",
   "mimetype": "text/x-python",
   "name": "python",
   "nbconvert_exporter": "python",
   "pygments_lexer": "ipython3",
   "version": "3.8.3"
  }
 },
 "nbformat": 4,
 "nbformat_minor": 4
}
