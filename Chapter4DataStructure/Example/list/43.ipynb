{
 "cells": [
  {
   "cell_type": "code",
   "execution_count": 2,
   "metadata": {},
   "outputs": [
    {
     "name": "stdout",
     "output_type": "stream",
     "text": [
      "เลข 0 อยู่ในลำดับที่ : 0\n"
     ]
    }
   ],
   "source": [
    "# กำหนดให้ list1 = [0,1,2,'a','b','c'] เขียนโปรแกรมเพื่อพิมพ์ 0 ออกมาโดยอ้างอิงตำแหน่งจาก list1\n",
    "list1 = [0,1,2,'a','b','c']\n",
    "print(\"เลข 0 อยู่ในลำดับที่ :\",list1[0])"
   ]
  },
  {
   "cell_type": "code",
   "execution_count": 5,
   "metadata": {},
   "outputs": [
    {
     "name": "stdout",
     "output_type": "stream",
     "text": [
      "เลข 0 อยู่ในลำดับที่ : 0\n"
     ]
    }
   ],
   "source": [
    "list1 = [0,1,2,'a','b','c']\n",
    "print(\"เลข 0 อยู่ในลำดับที่ :\",list1[-6])"
   ]
  },
  {
   "cell_type": "code",
   "execution_count": null,
   "metadata": {},
   "outputs": [],
   "source": []
  }
 ],
 "metadata": {
  "kernelspec": {
   "display_name": "Python 3",
   "language": "python",
   "name": "python3"
  },
  "language_info": {
   "codemirror_mode": {
    "name": "ipython",
    "version": 3
   },
   "file_extension": ".py",
   "mimetype": "text/x-python",
   "name": "python",
   "nbconvert_exporter": "python",
   "pygments_lexer": "ipython3",
   "version": "3.8.3"
  }
 },
 "nbformat": 4,
 "nbformat_minor": 4
}
