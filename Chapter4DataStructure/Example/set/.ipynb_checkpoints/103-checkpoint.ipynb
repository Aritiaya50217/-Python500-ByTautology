{
 "cells": [
  {
   "cell_type": "code",
   "execution_count": 4,
   "metadata": {},
   "outputs": [
    {
     "name": "stdout",
     "output_type": "stream",
     "text": [
      "Before :  {'i', 1, 2, 3, 'iii', 'ii'}\n",
      "After   :  {1, 2, 3, 'iii', 'ii'}\n"
     ]
    }
   ],
   "source": [
    "# กำหนดให้ set1 = {1,2,3,'i','ii','iii'} เขียนโปรแกรมลบ 'i' จาก set1 จากนั้นให้พิมพ์ set1 ออกมา\n",
    "set1 = {1,2,3,'i','ii','iii'}\n",
    "print(\"Before : \",set1)\n",
    "# remove ลบสมาชิกที่เราเลือก ภายใน set\n",
    "set1.remove('i')\n",
    "print(\"After   : \",set1)"
   ]
  },
  {
   "cell_type": "code",
   "execution_count": null,
   "metadata": {},
   "outputs": [],
   "source": []
  }
 ],
 "metadata": {
  "kernelspec": {
   "display_name": "Python 3",
   "language": "python",
   "name": "python3"
  },
  "language_info": {
   "codemirror_mode": {
    "name": "ipython",
    "version": 3
   },
   "file_extension": ".py",
   "mimetype": "text/x-python",
   "name": "python",
   "nbconvert_exporter": "python",
   "pygments_lexer": "ipython3",
   "version": "3.8.3"
  }
 },
 "nbformat": 4,
 "nbformat_minor": 4
}
