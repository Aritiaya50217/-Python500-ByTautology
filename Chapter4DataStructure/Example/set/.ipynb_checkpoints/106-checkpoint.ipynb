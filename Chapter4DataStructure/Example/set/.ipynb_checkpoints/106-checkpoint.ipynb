{
 "cells": [
  {
   "cell_type": "code",
   "execution_count": 4,
   "metadata": {},
   "outputs": [
    {
     "name": "stdout",
     "output_type": "stream",
     "text": [
      "Set1 Union Set2 :  {1, 2, 3, 4, 5, 6}\n"
     ]
    }
   ],
   "source": [
    "# กำหนดให้ set1 = {1,2,3,4,5} และ set2 = {3,4,5,6} เขียนโปรแกรมพิมพ์ผลลัพธ์ที่เกิดจากการ union ระหว่าง set1 และ set2 ออกมา\n",
    "set1 = {1,2,3,4,5}\n",
    "set2 = {3,4,5,6} \n",
    "# union การเอาข้อมูลภายใน set มารวมกัน\n",
    "print(\"Set1 Union Set2 : \",set1.union(set2))"
   ]
  },
  {
   "cell_type": "code",
   "execution_count": 5,
   "metadata": {},
   "outputs": [
    {
     "name": "stdout",
     "output_type": "stream",
     "text": [
      "Set1 Union Set2 :  {1, 2, 3, 4, 5, 6}\n"
     ]
    }
   ],
   "source": [
    "set1 = {1,2,3,4,5}\n",
    "set2 = {3,4,5,6} \n",
    "# สมาชิกของ set1 กับ set2\n",
    "print(\"Set1 Union Set2 : \",set1 | set2)"
   ]
  },
  {
   "cell_type": "code",
   "execution_count": null,
   "metadata": {},
   "outputs": [],
   "source": []
  }
 ],
 "metadata": {
  "kernelspec": {
   "display_name": "Python 3",
   "language": "python",
   "name": "python3"
  },
  "language_info": {
   "codemirror_mode": {
    "name": "ipython",
    "version": 3
   },
   "file_extension": ".py",
   "mimetype": "text/x-python",
   "name": "python",
   "nbconvert_exporter": "python",
   "pygments_lexer": "ipython3",
   "version": "3.8.3"
  }
 },
 "nbformat": 4,
 "nbformat_minor": 4
}
