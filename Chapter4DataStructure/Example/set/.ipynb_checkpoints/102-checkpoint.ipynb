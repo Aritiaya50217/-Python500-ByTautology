{
 "cells": [
  {
   "cell_type": "code",
   "execution_count": 1,
   "metadata": {},
   "outputs": [
    {
     "name": "stdout",
     "output_type": "stream",
     "text": [
      "Please insert str1 : Hello\n",
      "Please insert str2 : World\n",
      "Please insert str3 : 2021\n",
      "{'World', 'Hello', '2021'}\n"
     ]
    }
   ],
   "source": [
    "# เขียนโปรแกรมสร้าง empty set และรับอินพุต 3 ตัวที่เป็นสายอักขระ (str1,str2,str3) จากนั้นให้ทำการเพิ่มสายอักขระทั้ง 3 ไปเป็นสมาชิกใน set โดยการใช้เมธอด update สุดท้ายให้พิมพ์ set ออกมา\n",
    "empty_set = set()\n",
    "str1 = input(\"Please insert str1 : \")\n",
    "str2 = input(\"Please insert str2 : \")\n",
    "str3 = input(\"Please insert str3 : \")\n",
    "empty_set.update({str1,str2,str3})\n",
    "print(empty_set)"
   ]
  },
  {
   "cell_type": "code",
   "execution_count": null,
   "metadata": {},
   "outputs": [],
   "source": []
  }
 ],
 "metadata": {
  "kernelspec": {
   "display_name": "Python 3",
   "language": "python",
   "name": "python3"
  },
  "language_info": {
   "codemirror_mode": {
    "name": "ipython",
    "version": 3
   },
   "file_extension": ".py",
   "mimetype": "text/x-python",
   "name": "python",
   "nbconvert_exporter": "python",
   "pygments_lexer": "ipython3",
   "version": "3.8.3"
  }
 },
 "nbformat": 4,
 "nbformat_minor": 4
}
