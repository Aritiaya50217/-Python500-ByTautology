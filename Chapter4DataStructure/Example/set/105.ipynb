{
 "cells": [
  {
   "cell_type": "code",
   "execution_count": 7,
   "metadata": {},
   "outputs": [
    {
     "name": "stdout",
     "output_type": "stream",
     "text": [
      "Please insert Number : 3\n",
      "Output :  True\n"
     ]
    }
   ],
   "source": [
    "# กำหนดให้ set1 = {1,2,3,'i','ii','iii'} เขียนโปรแกรมรับอินพุต 1 ตัวที่เป็นจำนวนเต็ม (int1) ให้ทำการตรวจว่า int1 เป็นสมาชิกของ set1 หรือไม่\n",
    "set1 = {1,2,3,'i','ii','iii'} \n",
    "int1 = int(input(\"Please insert Number : \"))\n",
    "print(\"Output : \",int1 in set1)"
   ]
  },
  {
   "cell_type": "code",
   "execution_count": null,
   "metadata": {},
   "outputs": [],
   "source": []
  }
 ],
 "metadata": {
  "kernelspec": {
   "display_name": "Python 3",
   "language": "python",
   "name": "python3"
  },
  "language_info": {
   "codemirror_mode": {
    "name": "ipython",
    "version": 3
   },
   "file_extension": ".py",
   "mimetype": "text/x-python",
   "name": "python",
   "nbconvert_exporter": "python",
   "pygments_lexer": "ipython3",
   "version": "3.8.3"
  }
 },
 "nbformat": 4,
 "nbformat_minor": 4
}
