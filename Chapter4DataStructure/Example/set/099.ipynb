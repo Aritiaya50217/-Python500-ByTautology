{
 "cells": [
  {
   "cell_type": "code",
   "execution_count": 6,
   "metadata": {},
   "outputs": [
    {
     "name": "stdout",
     "output_type": "stream",
     "text": [
      "Before :  {1, 2, 3, 'iii', 'ii', 'i'}\n",
      "After   :  {1, 2, 3, 'iii', 'ii', 'i', 'iv'}\n"
     ]
    }
   ],
   "source": [
    "# กำหนดให้ set1 = {1,2,3,'i','ii','iii'} เขียนโปรแกรมเพิ่ม 'iv' ไปเป็นสมาชิกใน set1 จากนั้นให้พิมพ์ set1 ออกมา\n",
    "#  set จะไม่เรียงลำดับข้อมูลภายใน และสมาชิกจะไม่ซ้ำกัน\n",
    "set1 = {1,2,3,'i','ii','iii'} \n",
    "print(\"Before : \",set1)\n",
    "set1.add('iv')\n",
    "print(\"After   : \",set1)"
   ]
  },
  {
   "cell_type": "code",
   "execution_count": null,
   "metadata": {},
   "outputs": [],
   "source": []
  }
 ],
 "metadata": {
  "kernelspec": {
   "display_name": "Python 3",
   "language": "python",
   "name": "python3"
  },
  "language_info": {
   "codemirror_mode": {
    "name": "ipython",
    "version": 3
   },
   "file_extension": ".py",
   "mimetype": "text/x-python",
   "name": "python",
   "nbconvert_exporter": "python",
   "pygments_lexer": "ipython3",
   "version": "3.8.3"
  }
 },
 "nbformat": 4,
 "nbformat_minor": 4
}
