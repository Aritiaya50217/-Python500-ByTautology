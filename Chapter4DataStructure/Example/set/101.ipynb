{
 "cells": [
  {
   "cell_type": "code",
   "execution_count": 4,
   "metadata": {},
   "outputs": [
    {
     "name": "stdout",
     "output_type": "stream",
     "text": [
      "กรณีเพิ่มเข้าไปใน set ทีละตัว \n",
      "\n",
      "Please insert string1 : Python\n",
      "Please insert string2 : Java\n",
      "Please insert string3 : Golang\n",
      "{'Golang', 'Java', 'Python'}\n",
      "Type :  <class 'set'>\n"
     ]
    }
   ],
   "source": [
    "# เขียนโปรแกรมสร้าง empty set และรับอินพุต 3 ตัวที่เป็นสายอักขระ (str1,str2,str3) จากนั้นให้ทำการเพิ่มสายอักขระทั้ง 3 ไปเป็นสมาชิกใน set สุดท้าย\n",
    "# ต้องใช้  set() เพื่อบอกว่าต้องการเก็บข้อมูลไว้ในรูปแบบของ set\n",
    "\n",
    "print(\"กรณีเพิ่มเข้าไปใน set ทีละตัว \\n\")\n",
    "empty_set = set()\n",
    "str1 = input(\"Please insert string1 : \")\n",
    "str2 = input(\"Please insert string2 : \")\n",
    "str3 = input(\"Please insert string3 : \")\n",
    "empty_set.add(str1)\n",
    "empty_set.add(str2)\n",
    "empty_set.add(str3)\n",
    "\n",
    "print(empty_set)\n",
    "print(\"Type : \",type(empty_set))"
   ]
  },
  {
   "cell_type": "code",
   "execution_count": 5,
   "metadata": {},
   "outputs": [
    {
     "name": "stdout",
     "output_type": "stream",
     "text": [
      "กรณีเพิ่มเข้าไปใน set ครั้งละหลาย ๆตัว \n",
      "\n",
      "Please insert string1 : Python\n",
      "Please insert string2 : Java\n",
      "Please insert string3 : Golang\n",
      "{'Golang', 'Java', 'Python'}\n",
      "Type :  <class 'set'>\n"
     ]
    }
   ],
   "source": [
    "print(\"กรณีเพิ่มเข้าไปใน set ครั้งละหลาย ๆตัว \\n\")\n",
    "empty_set = set()\n",
    "str1 = input(\"Please insert string1 : \")\n",
    "str2 = input(\"Please insert string2 : \")\n",
    "str3 = input(\"Please insert string3 : \")\n",
    "# .update( { input1, input2,input3 } ) \n",
    "empty_set.update({str1,str2,str3})\n",
    "print(empty_set)\n",
    "print(\"Type : \",type(empty_set))"
   ]
  },
  {
   "cell_type": "code",
   "execution_count": null,
   "metadata": {},
   "outputs": [],
   "source": []
  }
 ],
 "metadata": {
  "kernelspec": {
   "display_name": "Python 3",
   "language": "python",
   "name": "python3"
  },
  "language_info": {
   "codemirror_mode": {
    "name": "ipython",
    "version": 3
   },
   "file_extension": ".py",
   "mimetype": "text/x-python",
   "name": "python",
   "nbconvert_exporter": "python",
   "pygments_lexer": "ipython3",
   "version": "3.8.3"
  }
 },
 "nbformat": 4,
 "nbformat_minor": 4
}
