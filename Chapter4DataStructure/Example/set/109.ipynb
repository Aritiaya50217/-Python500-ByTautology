{
 "cells": [
  {
   "cell_type": "code",
   "execution_count": 2,
   "metadata": {},
   "outputs": [
    {
     "name": "stdout",
     "output_type": "stream",
     "text": [
      "สมาชิกที่มีใน set2 แต่ไม่มีใน set1 :  {6}\n"
     ]
    }
   ],
   "source": [
    "# กำหนดให้ set1 = {1,2,3,4,5} และ set2 = {3,4,5,6} เขียนโปรแกรมพิมพ์ผลลัพธ์ที่เกิดจาก set2 - set1 \n",
    "set1 = {1,2,3,4,5}\n",
    "set2 = {3,4,5,6}\n",
    "print(\"สมาชิกที่มีใน set2 แต่ไม่มีใน set1 : \",set2 - set1)"
   ]
  },
  {
   "cell_type": "code",
   "execution_count": null,
   "metadata": {},
   "outputs": [],
   "source": []
  }
 ],
 "metadata": {
  "kernelspec": {
   "display_name": "Python 3",
   "language": "python",
   "name": "python3"
  },
  "language_info": {
   "codemirror_mode": {
    "name": "ipython",
    "version": 3
   },
   "file_extension": ".py",
   "mimetype": "text/x-python",
   "name": "python",
   "nbconvert_exporter": "python",
   "pygments_lexer": "ipython3",
   "version": "3.8.3"
  }
 },
 "nbformat": 4,
 "nbformat_minor": 4
}
