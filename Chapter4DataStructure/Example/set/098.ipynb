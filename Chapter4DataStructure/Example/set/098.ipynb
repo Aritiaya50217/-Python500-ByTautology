{
 "cells": [
  {
   "cell_type": "code",
   "execution_count": 8,
   "metadata": {},
   "outputs": [
    {
     "name": "stdout",
     "output_type": "stream",
     "text": [
      "1\n",
      "2\n",
      "3\n",
      "ii\n",
      "iii\n",
      "i\n"
     ]
    }
   ],
   "source": [
    "# กำหนดให้ set1 = {1,2,3,'i','ii','iii'} เขียนโปรแกรมพิมพ์สมาชิกทุกตัวใน set1 ออกมา\n",
    "set1 = {1,2,3,'i','ii','iii'}\n",
    "#  ใช้ for loop\n",
    "for s in set1 :\n",
    "    print(s)"
   ]
  },
  {
   "cell_type": "code",
   "execution_count": null,
   "metadata": {},
   "outputs": [],
   "source": []
  }
 ],
 "metadata": {
  "kernelspec": {
   "display_name": "Python 3",
   "language": "python",
   "name": "python3"
  },
  "language_info": {
   "codemirror_mode": {
    "name": "ipython",
    "version": 3
   },
   "file_extension": ".py",
   "mimetype": "text/x-python",
   "name": "python",
   "nbconvert_exporter": "python",
   "pygments_lexer": "ipython3",
   "version": "3.8.3"
  }
 },
 "nbformat": 4,
 "nbformat_minor": 4
}
