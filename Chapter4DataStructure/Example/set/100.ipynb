{
 "cells": [
  {
   "cell_type": "code",
   "execution_count": 12,
   "metadata": {},
   "outputs": [
    {
     "name": "stdout",
     "output_type": "stream",
     "text": [
      "เพิ่ม 1 (สมาชิกภายใน set ไม่สามารถซ้ำกันได้) :  {1, 2, 3, 'i', 'ii', 'iii'}\n",
      "เพิ่ม '1' แต่เป็นคนละประเภทกับสมาชิกที่มีอยู่ :  {1, 2, 3, 'i', 'ii', 'iii', '1'}\n"
     ]
    }
   ],
   "source": [
    "# กำหนดให้ set1 = {1,2,3,'i','ii','iii'} เขียนโปรแกรมเพิ่ม 1 ไปเป็นสมาชิกใน set1 จากนั้นให้พิมพ์ set1 ออกมา\n",
    "set1 = {1,2,3,'i','ii','iii'} \n",
    "set1.add(1)\n",
    "print(\"เพิ่ม 1 (สมาชิกภายใน set ไม่สามารถซ้ำกันได้) : \" ,set1)\n",
    "set1.add('1')\n",
    "print(\"เพิ่ม '1' แต่เป็นคนละประเภทกับสมาชิกที่มีอยู่ : \",set1)"
   ]
  },
  {
   "cell_type": "code",
   "execution_count": null,
   "metadata": {},
   "outputs": [],
   "source": []
  }
 ],
 "metadata": {
  "kernelspec": {
   "display_name": "Python 3",
   "language": "python",
   "name": "python3"
  },
  "language_info": {
   "codemirror_mode": {
    "name": "ipython",
    "version": 3
   },
   "file_extension": ".py",
   "mimetype": "text/x-python",
   "name": "python",
   "nbconvert_exporter": "python",
   "pygments_lexer": "ipython3",
   "version": "3.8.3"
  }
 },
 "nbformat": 4,
 "nbformat_minor": 4
}
