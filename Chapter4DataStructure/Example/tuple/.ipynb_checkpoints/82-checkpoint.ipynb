{
 "cells": [
  {
   "cell_type": "code",
   "execution_count": 2,
   "metadata": {},
   "outputs": [
    {
     "name": "stdout",
     "output_type": "stream",
     "text": [
      "Please insert strung : one\n",
      "True\n"
     ]
    }
   ],
   "source": [
    "# กำหนดให้ tuple3 = ('one','two','three','four','five') เขียนโปรแกรมรับอินพุต 1 ตัวที่เป็นสายอักขระ (str1) ให้ทำการตรวจสอบว่า str1 เป็นสมาชิกใน tuple3 หรือไม่\n",
    "tuple3 = ('one','two','three','four','five')\n",
    "str1 = input(\"Please insert strung : \")\n",
    "print(str1 in tuple3)"
   ]
  },
  {
   "cell_type": "code",
   "execution_count": null,
   "metadata": {},
   "outputs": [],
   "source": []
  },
  {
   "cell_type": "code",
   "execution_count": null,
   "metadata": {},
   "outputs": [],
   "source": []
  }
 ],
 "metadata": {
  "kernelspec": {
   "display_name": "Python 3",
   "language": "python",
   "name": "python3"
  },
  "language_info": {
   "codemirror_mode": {
    "name": "ipython",
    "version": 3
   },
   "file_extension": ".py",
   "mimetype": "text/x-python",
   "name": "python",
   "nbconvert_exporter": "python",
   "pygments_lexer": "ipython3",
   "version": "3.8.3"
  }
 },
 "nbformat": 4,
 "nbformat_minor": 4
}
