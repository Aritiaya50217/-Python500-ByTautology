{
 "cells": [
  {
   "cell_type": "code",
   "execution_count": 1,
   "metadata": {},
   "outputs": [
    {
     "name": "stdout",
     "output_type": "stream",
     "text": [
      "นับจากข้างหน้า : Egypt\n",
      "นับจากข้างหลัง : Egypt\n"
     ]
    }
   ],
   "source": [
    "# กำหนดให้ tuple1 = ('America','Brazil','China','Dominican','Egypt' ) เขียนโปรแกรมเพื่อพิมพ์ 'Egypt' ออกมาโดยอ้างอิงตำแหน่งจาก tuple1\n",
    "tuple1 = ('America','Brazil','China','Dominican','Egypt' ) \n",
    "print(\"นับจากข้างหน้า :\",tuple1[4])\n",
    "print(\"นับจากข้างหลัง :\",tuple1[-1])"
   ]
  },
  {
   "cell_type": "code",
   "execution_count": null,
   "metadata": {},
   "outputs": [],
   "source": []
  }
 ],
 "metadata": {
  "kernelspec": {
   "display_name": "Python 3",
   "language": "python",
   "name": "python3"
  },
  "language_info": {
   "codemirror_mode": {
    "name": "ipython",
    "version": 3
   },
   "file_extension": ".py",
   "mimetype": "text/x-python",
   "name": "python",
   "nbconvert_exporter": "python",
   "pygments_lexer": "ipython3",
   "version": "3.8.3"
  }
 },
 "nbformat": 4,
 "nbformat_minor": 4
}
