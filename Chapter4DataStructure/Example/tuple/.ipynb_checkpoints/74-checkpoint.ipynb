{
 "cells": [
  {
   "cell_type": "code",
   "execution_count": 2,
   "metadata": {},
   "outputs": [
    {
     "name": "stdout",
     "output_type": "stream",
     "text": [
      "China\n",
      "China\n"
     ]
    }
   ],
   "source": [
    "# กำหนดให้ tuple1 = ('America','Brazil','China','Dominican','Egypt' ) เขียนโปรแกรมเพื่อพิมพ์ 'China'  ออกมาโดยอ้างอิงตำแหน่งจาก tuple1\n",
    "tuple1 = ('America','Brazil','China','Dominican','Egypt' ) \n",
    "print(tuple1[2])\n",
    "print(tuple1[-3])"
   ]
  },
  {
   "cell_type": "code",
   "execution_count": null,
   "metadata": {},
   "outputs": [],
   "source": []
  }
 ],
 "metadata": {
  "kernelspec": {
   "display_name": "Python 3",
   "language": "python",
   "name": "python3"
  },
  "language_info": {
   "codemirror_mode": {
    "name": "ipython",
    "version": 3
   },
   "file_extension": ".py",
   "mimetype": "text/x-python",
   "name": "python",
   "nbconvert_exporter": "python",
   "pygments_lexer": "ipython3",
   "version": "3.8.3"
  }
 },
 "nbformat": 4,
 "nbformat_minor": 4
}
