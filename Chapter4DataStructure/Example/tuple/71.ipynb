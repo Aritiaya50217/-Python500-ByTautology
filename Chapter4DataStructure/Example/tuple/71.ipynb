{
 "cells": [
  {
   "cell_type": "code",
   "execution_count": 2,
   "metadata": {},
   "outputs": [
    {
     "name": "stdout",
     "output_type": "stream",
     "text": [
      "('America', 'Brazil', 'China', 'Dominican', 'Egypt')\n",
      "<class 'tuple'>\n"
     ]
    }
   ],
   "source": [
    "# เขียนโปรแกรมสร้าง tuple ที่มีสมาชิกเป็น 'America','Brazil','China','Dominican','Egypt' ตามลำดับ จากนั้นให้ทำการพิมพ์ค่าและชนิดข้อมูลของ tuple ที่สร้างออกมา\n",
    "tuple1 = ('America','Brazil','China','Dominican','Egypt' )\n",
    "print(tuple1)\n",
    "print(type(tuple1))"
   ]
  },
  {
   "cell_type": "code",
   "execution_count": null,
   "metadata": {},
   "outputs": [],
   "source": []
  }
 ],
 "metadata": {
  "kernelspec": {
   "display_name": "Python 3",
   "language": "python",
   "name": "python3"
  },
  "language_info": {
   "codemirror_mode": {
    "name": "ipython",
    "version": 3
   },
   "file_extension": ".py",
   "mimetype": "text/x-python",
   "name": "python",
   "nbconvert_exporter": "python",
   "pygments_lexer": "ipython3",
   "version": "3.8.3"
  }
 },
 "nbformat": 4,
 "nbformat_minor": 4
}
