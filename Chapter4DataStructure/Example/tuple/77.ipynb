{
 "cells": [
  {
   "cell_type": "code",
   "execution_count": 5,
   "metadata": {},
   "outputs": [
    {
     "name": "stdout",
     "output_type": "stream",
     "text": [
      "('three', 1, 2)\n"
     ]
    }
   ],
   "source": [
    "# กำหนดให้ tuple2 = ('one','two','three',1,2,3) เขียนโปรแกรมเพื่อพิมพ์ tuple ที่มีสมาชิกตั้งแต่ index 2 จนถึง index -2 \n",
    "tuple2 = ('one','two','three',1,2,3)\n",
    "print(tuple2[2:-1])"
   ]
  },
  {
   "cell_type": "code",
   "execution_count": null,
   "metadata": {},
   "outputs": [],
   "source": []
  }
 ],
 "metadata": {
  "kernelspec": {
   "display_name": "Python 3",
   "language": "python",
   "name": "python3"
  },
  "language_info": {
   "codemirror_mode": {
    "name": "ipython",
    "version": 3
   },
   "file_extension": ".py",
   "mimetype": "text/x-python",
   "name": "python",
   "nbconvert_exporter": "python",
   "pygments_lexer": "ipython3",
   "version": "3.8.3"
  }
 },
 "nbformat": 4,
 "nbformat_minor": 4
}
