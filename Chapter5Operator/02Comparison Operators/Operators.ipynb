{
 "cells": [
  {
   "cell_type": "code",
   "execution_count": 1,
   "metadata": {},
   "outputs": [
    {
     "name": "stdout",
     "output_type": "stream",
     "text": [
      "a เท่ากับ b :  False\n"
     ]
    }
   ],
   "source": [
    "# การตรวจสอบความเท่ากัน (==)\n",
    "a = 5 \n",
    "b = 10\n",
    "\n",
    "print('a เท่ากับ b : ',a==b)"
   ]
  },
  {
   "cell_type": "code",
   "execution_count": 6,
   "metadata": {},
   "outputs": [
    {
     "name": "stdout",
     "output_type": "stream",
     "text": [
      "a ไม่เท่ากับ b :  False\n",
      "a ไม่เท่ากับ c :  True\n"
     ]
    }
   ],
   "source": [
    "# ตรวจสอบความไม่เท่ากัน (!=)\n",
    "a = 8\n",
    "b = 4*2\n",
    "c = 10\n",
    "\n",
    "print('a ไม่เท่ากับ b : ', a != b)\n",
    "print('a ไม่เท่ากับ c : ',a != c )"
   ]
  },
  {
   "cell_type": "code",
   "execution_count": 7,
   "metadata": {},
   "outputs": [
    {
     "name": "stdout",
     "output_type": "stream",
     "text": [
      "a > b :  False\n",
      "b > c :  False\n"
     ]
    }
   ],
   "source": [
    "# ตรวจสอบความมากกว่า (>)\n",
    "a = 4\n",
    "b = 8\n",
    "c = 2**3\n",
    "\n",
    "print('a > b : ', a > b)\n",
    "print('b > c : ',b > c)"
   ]
  },
  {
   "cell_type": "code",
   "execution_count": 9,
   "metadata": {},
   "outputs": [
    {
     "name": "stdout",
     "output_type": "stream",
     "text": [
      "a < b :  True\n",
      "b < c :  False\n"
     ]
    }
   ],
   "source": [
    "# ตรวจสอบความน้อยกว่า (<)\n",
    "a = 1.1111\n",
    "b = 2.22222\n",
    "c = 2.00002\n",
    "\n",
    "print('a < b : ',a < b)\n",
    "print('b < c : ',b < c)"
   ]
  },
  {
   "cell_type": "code",
   "execution_count": 11,
   "metadata": {},
   "outputs": [
    {
     "name": "stdout",
     "output_type": "stream",
     "text": [
      "a >= b :  False\n",
      "c >= b :  True\n",
      "d >= c :  True\n"
     ]
    }
   ],
   "source": [
    "# ตรวจสอบความมากกว่าหรือเท่ากับ ( >= )\n",
    "a = 8\n",
    "b = 9\n",
    "c = 19\n",
    "d = 19\n",
    "\n",
    "print('a >= b : ' ,a >= b)\n",
    "print('c >= b : ' , c >= b)\n",
    "print('d >= c : ' , d >= c)"
   ]
  },
  {
   "cell_type": "code",
   "execution_count": 14,
   "metadata": {},
   "outputs": [
    {
     "name": "stdout",
     "output_type": "stream",
     "text": [
      "a <= b :  True\n",
      "c <= b :  False\n",
      "d <= c :  False\n"
     ]
    }
   ],
   "source": [
    "# ตรวจสอบความน้อยกว่าหรือเท่ากับ ( <= )\n",
    "a = 8\n",
    "b = 9\n",
    "c = 19.0000\n",
    "d = 19.0001\n",
    "\n",
    "print('a <= b : ' ,a <= b)\n",
    "print('c <= b : ' , c <= b)\n",
    "print('d <= c : ' , d <= c)"
   ]
  },
  {
   "cell_type": "code",
   "execution_count": null,
   "metadata": {},
   "outputs": [],
   "source": []
  }
 ],
 "metadata": {
  "kernelspec": {
   "display_name": "Python 3",
   "language": "python",
   "name": "python3"
  },
  "language_info": {
   "codemirror_mode": {
    "name": "ipython",
    "version": 3
   },
   "file_extension": ".py",
   "mimetype": "text/x-python",
   "name": "python",
   "nbconvert_exporter": "python",
   "pygments_lexer": "ipython3",
   "version": "3.8.3"
  }
 },
 "nbformat": 4,
 "nbformat_minor": 4
}
