{
 "cells": [
  {
   "cell_type": "code",
   "execution_count": 6,
   "metadata": {},
   "outputs": [
    {
     "name": "stdout",
     "output_type": "stream",
     "text": [
      "10 หาร 5 = 2 เศษ :  0\n",
      "10 หาร 3 = 3 เศษ :  1\n"
     ]
    }
   ],
   "source": [
    "# หารลงตัวคำตอบจะเป็น 0 \n",
    "# หารไม่ลงตัวคำตอบจะเป็น 1\n",
    "a = 10 \n",
    "b = 5\n",
    "c = 3\n",
    "\n",
    "print('10 หาร 5 = 2 เศษ : ',a % b)\n",
    "print('10 หาร 3 = 3 เศษ : ', a % c )"
   ]
  },
  {
   "cell_type": "code",
   "execution_count": null,
   "metadata": {},
   "outputs": [],
   "source": []
  }
 ],
 "metadata": {
  "kernelspec": {
   "display_name": "Python 3",
   "language": "python",
   "name": "python3"
  },
  "language_info": {
   "codemirror_mode": {
    "name": "ipython",
    "version": 3
   },
   "file_extension": ".py",
   "mimetype": "text/x-python",
   "name": "python",
   "nbconvert_exporter": "python",
   "pygments_lexer": "ipython3",
   "version": "3.8.3"
  }
 },
 "nbformat": 4,
 "nbformat_minor": 4
}
