{
 "cells": [
  {
   "cell_type": "code",
   "execution_count": 20,
   "metadata": {},
   "outputs": [
    {
     "name": "stdout",
     "output_type": "stream",
     "text": [
      "43 -9 =  34\n"
     ]
    }
   ],
   "source": [
    "# ข้อ 1\n",
    "y = 2**3 + 5 * 7 - 9\n",
    "print('43 -9 = ',y)\n",
    "\n",
    "#อธิบาย\n",
    "# y = 2**3 + 5 * 7 - 9\n",
    "# y = 8 + 5 *7 -9\n",
    "# y = 8 + 35 - 9\n",
    "# y = 43 -9"
   ]
  },
  {
   "cell_type": "code",
   "execution_count": 22,
   "metadata": {},
   "outputs": [
    {
     "name": "stdout",
     "output_type": "stream",
     "text": [
      "40 + 20 =  60\n"
     ]
    }
   ],
   "source": [
    "# ข้อ 2\n",
    "y = 5*2**3 + 4*5\n",
    "print('40 + 20 = ',y)\n",
    "\n",
    "# อธิบาย\n",
    "# y = 5*2**3 + 4*5\n",
    "# y = 5 * 8 + 4*5\n",
    "# y = 40 + 20\n",
    "# y = 60"
   ]
  },
  {
   "cell_type": "code",
   "execution_count": 26,
   "metadata": {},
   "outputs": [
    {
     "name": "stdout",
     "output_type": "stream",
     "text": [
      "2 ** 9 =  512\n"
     ]
    }
   ],
   "source": [
    "# ข้อ 3\n",
    "# ยกกำลังที่ซ้อนกัน ทำจาก ขวา ไป ซ้าย\n",
    "y = 2**3**2\n",
    "print('2 ** 9 = ',y)\n",
    "\n",
    "# อธิบาย\n",
    "# y = 2**3**2\n",
    "# y =  2 ** 9\n",
    "# y = 512"
   ]
  },
  {
   "cell_type": "code",
   "execution_count": 4,
   "metadata": {},
   "outputs": [
    {
     "name": "stdout",
     "output_type": "stream",
     "text": [
      "15\n"
     ]
    }
   ],
   "source": [
    "# ข้อ 4\n",
    "y = 5 + 4 + 3+ 2 +1\n",
    "print(y)\n",
    "\n",
    "# อธิบาย\n",
    "# y = 5 + 4 + 3+ 2 +1\n",
    "# y =   9 +  3 + 2 + 1\n",
    "# y =     12 + 2 +1\n",
    "# y =         14 + 1\n",
    "# y =            15"
   ]
  },
  {
   "cell_type": "code",
   "execution_count": 8,
   "metadata": {},
   "outputs": [
    {
     "name": "stdout",
     "output_type": "stream",
     "text": [
      "7 % 4 =  3\n"
     ]
    }
   ],
   "source": [
    "# ข้อ 5\n",
    "y = 7 % 2 **2\n",
    "print('7 % 4 = ',y)\n",
    "\n",
    "# อธิบาย \n",
    "# y = 7 % 2**2\n",
    "# y = 7 % 4\n",
    "# y = 3"
   ]
  },
  {
   "cell_type": "code",
   "execution_count": 10,
   "metadata": {},
   "outputs": [
    {
     "name": "stdout",
     "output_type": "stream",
     "text": [
      "7 // 6 =  1\n"
     ]
    }
   ],
   "source": [
    "# ข้อ 6\n",
    "y = 7 // (3**2**2-75)\n",
    "print('7 // 6 = ',y)\n",
    "\n",
    "# อธิบาย\n",
    "# y = 7 // (3**2**2-75)\n",
    "# y = 7 // (3**4  - 75)\n",
    "# y = 7 // (81 - 75)\n",
    "# y = 7 // 6\n",
    "# y = 1.16666666667"
   ]
  },
  {
   "cell_type": "code",
   "execution_count": 12,
   "metadata": {},
   "outputs": [
    {
     "name": "stdout",
     "output_type": "stream",
     "text": [
      "2 + 8 =  10\n"
     ]
    }
   ],
   "source": [
    "# ข้อ 7\n",
    "y = 6 % 7 // 3 + 2**3\n",
    "print('2 + 8 = ',y)\n",
    "\n",
    "# อธิบาย\n",
    "# y = 6 % 7 // 3 + 2**3\n",
    "# y =  6 % 7 // 3 + 8\n",
    "# y =  6 // 3 + 8\n",
    "# y =  2 + 8\n",
    "# y = 10 "
   ]
  },
  {
   "cell_type": "code",
   "execution_count": 14,
   "metadata": {},
   "outputs": [
    {
     "name": "stdout",
     "output_type": "stream",
     "text": [
      "25 // 8 =  3\n"
     ]
    }
   ],
   "source": [
    "# ข้อ 8\n",
    "y = 5**2 //(2 * 2 + 4)\n",
    "print('25 // 8 = ',y)\n",
    "\n",
    "# อธิบาย\n",
    "# y = 5**2 //(2 * 2 + 4)\n",
    "# y = 5 ** 2 // (4 +4)\n",
    "# y = 5 **2  // 8\n",
    "# y = 25 // 8"
   ]
  },
  {
   "cell_type": "code",
   "execution_count": 16,
   "metadata": {},
   "outputs": [
    {
     "name": "stdout",
     "output_type": "stream",
     "text": [
      "9 - 0.5 =  8.5\n"
     ]
    }
   ],
   "source": [
    "# ข้อ 9\n",
    "y = 1 + 2 **3*1 - 1/2\n",
    "print('9 - 0.5 = ',y)\n",
    "\n",
    "# อธิบาย\n",
    "# y = 1 + 2 ** 3 * 1 - 1/2\n",
    "# y = 1 +  8 * 1 - 1 / 2\n",
    "# y = 1 + 8 - 0.5\n",
    "# y = 9 - 0.5"
   ]
  },
  {
   "cell_type": "code",
   "execution_count": 18,
   "metadata": {},
   "outputs": [
    {
     "name": "stdout",
     "output_type": "stream",
     "text": [
      "15 - 8  =  7\n"
     ]
    }
   ],
   "source": [
    "# ข้อ 10\n",
    "y = (1+2) + (3*4)-(2**3)\n",
    "print('15 - 8  = ',y)\n",
    "\n",
    "# อธิบาย\n",
    "# y = (1+2) + (3*4)-(2**3)\n",
    "# y = 3 + 12 - 8\n",
    "# y = 15 - 8 "
   ]
  },
  {
   "cell_type": "code",
   "execution_count": 3,
   "metadata": {},
   "outputs": [
    {
     "name": "stdout",
     "output_type": "stream",
     "text": [
      "4\n"
     ]
    }
   ],
   "source": [
    "# ข้อ 11\n",
    "y = 2 ** 2\n",
    "print(y)"
   ]
  },
  {
   "cell_type": "code",
   "execution_count": 5,
   "metadata": {},
   "outputs": [
    {
     "name": "stdout",
     "output_type": "stream",
     "text": [
      "9/8 =  1.125\n"
     ]
    }
   ],
   "source": [
    "# ข้อ 12\n",
    "y = 3**2/2 **3\n",
    "print('9/8 = ',y)\n",
    "\n",
    "#  อธิบาย\n",
    "#  y = 3**2/2 **3\n",
    "#  y = 9 / 8\n",
    "#  y = 1.125"
   ]
  },
  {
   "cell_type": "code",
   "execution_count": 7,
   "metadata": {},
   "outputs": [
    {
     "name": "stdout",
     "output_type": "stream",
     "text": [
      "16 / 2 =  8.0\n"
     ]
    }
   ],
   "source": [
    "# ข้อ 13\n",
    "y = 2**4 **1 / 2\n",
    "print('16 / 2 = ',y)\n",
    "\n",
    "# อธิบาย \n",
    "# y = 2**4 **1 / 2\n",
    "# y = 2 ** 4  /2\n",
    "# y = 16 /2\n",
    "# y = 8"
   ]
  },
  {
   "cell_type": "code",
   "execution_count": 1,
   "metadata": {},
   "outputs": [
    {
     "name": "stdout",
     "output_type": "stream",
     "text": [
      "32 % 4 =  0\n"
     ]
    }
   ],
   "source": [
    "# ข้อ 14 \n",
    "y = 2*(4**2) % (8 // 2)\n",
    "print('32 % 4 = ',y)\n",
    "\n",
    "\n",
    "# อธิบาย\n",
    "# y = 2*(4**2) % (8 // 2)\n",
    "# y = 2 * 16 % 4\n",
    "# y = 32 % 4\n",
    "# y =  0 "
   ]
  },
  {
   "cell_type": "code",
   "execution_count": 3,
   "metadata": {},
   "outputs": [
    {
     "name": "stdout",
     "output_type": "stream",
     "text": [
      "-7 >= 1 :  False\n"
     ]
    }
   ],
   "source": [
    "# ข้อ 15\n",
    "y = 2*4 - 15 >= 1\n",
    "print('-7 >= 1 : ',y)\n",
    "\n",
    "# อธิบาย\n",
    "# y = 2*4 - 15 >= 1\n",
    "# y = 8 - 15 >= 1\n",
    "# y = -7 >= 1\n",
    "# y = False"
   ]
  },
  {
   "cell_type": "code",
   "execution_count": null,
   "metadata": {},
   "outputs": [],
   "source": []
  },
  {
   "cell_type": "code",
   "execution_count": null,
   "metadata": {},
   "outputs": [],
   "source": []
  }
 ],
 "metadata": {
  "kernelspec": {
   "display_name": "Python 3",
   "language": "python",
   "name": "python3"
  },
  "language_info": {
   "codemirror_mode": {
    "name": "ipython",
    "version": 3
   },
   "file_extension": ".py",
   "mimetype": "text/x-python",
   "name": "python",
   "nbconvert_exporter": "python",
   "pygments_lexer": "ipython3",
   "version": "3.8.3"
  }
 },
 "nbformat": 4,
 "nbformat_minor": 4
}
