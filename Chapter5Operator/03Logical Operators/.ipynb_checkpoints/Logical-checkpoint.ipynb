{
 "cells": [
  {
   "cell_type": "code",
   "execution_count": 4,
   "metadata": {},
   "outputs": [
    {
     "name": "stdout",
     "output_type": "stream",
     "text": [
      "t and t :  True\n",
      "t and f :  False\n",
      "f and t :  False\n",
      "f and f :  False\n"
     ]
    }
   ],
   "source": [
    "# and\n",
    "# หลักการจำ t และ t เป็น T นอกนั้นเป็นเท็จ\n",
    "t = True\n",
    "f = False\n",
    "\n",
    "print('t and t : ',t and t)\n",
    "print('t and f : ',t and f)\n",
    "print('f and t : ',t and f)\n",
    "print('f and f : ',t and f)"
   ]
  },
  {
   "cell_type": "code",
   "execution_count": 6,
   "metadata": {},
   "outputs": [
    {
     "name": "stdout",
     "output_type": "stream",
     "text": [
      "t or t :  True\n",
      "t or f :  True\n",
      "f or t :  True\n",
      "f or f :  False\n"
     ]
    }
   ],
   "source": [
    "# or \n",
    "# หลักการจำ f  หรือ f เป็น F นอกนั้นเป็น T\n",
    "t = True\n",
    "f = False\n",
    "print('t or t : ',t or t )\n",
    "print('t or f : ',t or f )\n",
    "print('f or t : ',f or t )\n",
    "print('f or f : ',f or f )"
   ]
  },
  {
   "cell_type": "code",
   "execution_count": 10,
   "metadata": {},
   "outputs": [
    {
     "name": "stdout",
     "output_type": "stream",
     "text": [
      "not t :  False\n",
      "not f :  True\n"
     ]
    }
   ],
   "source": [
    "# not คือ ตรงข้าม\n",
    "t = True\n",
    "f = False\n",
    "print('not t : ',not t)\n",
    "print('not f : ',not f)"
   ]
  },
  {
   "cell_type": "code",
   "execution_count": null,
   "metadata": {},
   "outputs": [],
   "source": []
  }
 ],
 "metadata": {
  "kernelspec": {
   "display_name": "Python 3",
   "language": "python",
   "name": "python3"
  },
  "language_info": {
   "codemirror_mode": {
    "name": "ipython",
    "version": 3
   },
   "file_extension": ".py",
   "mimetype": "text/x-python",
   "name": "python",
   "nbconvert_exporter": "python",
   "pygments_lexer": "ipython3",
   "version": "3.8.3"
  }
 },
 "nbformat": 4,
 "nbformat_minor": 4
}
