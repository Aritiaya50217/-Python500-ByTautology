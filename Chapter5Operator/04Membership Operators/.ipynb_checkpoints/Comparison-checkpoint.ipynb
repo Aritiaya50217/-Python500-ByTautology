{
 "cells": [
  {
   "cell_type": "code",
   "execution_count": 10,
   "metadata": {},
   "outputs": [
    {
     "name": "stdout",
     "output_type": "stream",
     "text": [
      "1 in listA :  True\n",
      "1 in tupleA :  False\n",
      "a in tupleA :  True\n",
      "name in dictA :  False\n",
      "A in dictA :  True\n"
     ]
    }
   ],
   "source": [
    "# in \n",
    "listA = [1,2,3]\n",
    "tupleA = ('a','b','c','d')\n",
    "\n",
    "dictA = {'A' : 1,'B' : 2,'C' : 3}\n",
    "setA = {'O','P','S'}\n",
    "\n",
    "print('1 in listA : ',1 in listA)\n",
    "print('1 in tupleA : ',1 in tupleA)\n",
    "print('a in tupleA : ','a' in tupleA)\n",
    "\n",
    "print('name in dictA : ' , 'name' in dictA)\n",
    "print('A in dictA : ' , 'A' in dictA)"
   ]
  },
  {
   "cell_type": "code",
   "execution_count": 12,
   "metadata": {},
   "outputs": [
    {
     "name": "stdout",
     "output_type": "stream",
     "text": [
      "1 not in listA :  False\n",
      "1 not in tupleA :  True\n"
     ]
    }
   ],
   "source": [
    "# not in \n",
    "listA = [1,2,3]\n",
    "tupleA = ('a','b','c','d')\n",
    "\n",
    "print('1 not in listA : ',1 not in listA)\n",
    "print('1 not in tupleA : ',1 not in tupleA)"
   ]
  },
  {
   "cell_type": "code",
   "execution_count": null,
   "metadata": {},
   "outputs": [],
   "source": []
  }
 ],
 "metadata": {
  "kernelspec": {
   "display_name": "Python 3",
   "language": "python",
   "name": "python3"
  },
  "language_info": {
   "codemirror_mode": {
    "name": "ipython",
    "version": 3
   },
   "file_extension": ".py",
   "mimetype": "text/x-python",
   "name": "python",
   "nbconvert_exporter": "python",
   "pygments_lexer": "ipython3",
   "version": "3.8.3"
  }
 },
 "nbformat": 4,
 "nbformat_minor": 4
}
